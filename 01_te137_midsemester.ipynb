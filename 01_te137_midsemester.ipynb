{
 "cells": [
  {
   "cell_type": "markdown",
   "metadata": {},
   "source": [
    "Before you turn this problem in, make sure everything runs as expected. First, **restart the kernel** (in the menubar, select Kernel$\\rightarrow$Restart) and then **run all cells** (in the menubar, select Cell$\\rightarrow$Run All).\n",
    "\n",
    "Make sure you fill in any place that says `YOUR CODE HERE` or \"YOUR ANSWER HERE\", as well as your name and collaborators below:"
   ]
  },
  {
   "cell_type": "code",
   "execution_count": null,
   "metadata": {},
   "outputs": [],
   "source": [
    "NAME = \"Taqiya Ehsan\"\n",
    "COLLABORATORS = \"N/A\""
   ]
  },
  {
   "cell_type": "markdown",
   "metadata": {},
   "source": [
    "---"
   ]
  },
  {
   "cell_type": "markdown",
   "metadata": {
    "id": "6uBju7svapPs"
   },
   "source": [
    "<div class=\"alert alert-block alert-info\">\n",
    "<h3>Student(s) Information</h3> Please provide information about yourself.<br>\n",
    "<b>Name1</b>: Taqiya Ehsan <br>\n",
    "<b>Name2 (optional) </b>: N/A<br>\n",
    "<b>NetID 1</b>: te137 <br>\n",
    "<b>NetID 2 (optional)</b>: N/A<br>\n",
    "<b>Group Project Declaration</b> (please provide a brief description of your partners contribution to the project. Do not discuss with partner before writing this): N/A<br>\n",
    "<br><br>\n",
    "<b>IMPORTANT</b>\n",
    "Your work will not be graded withour your initials below<br>\n",
    "I certify that this lab represents my own work and I have read the RU academic intergrity policies at<br> \n",
    "<a href=\"https://www.cs.rutgers.edu/academic-integrity/introduction\">https://www.cs.rutgers.edu/academic-integrity/introduction </a><br>\n",
    "<b>Initials</b>: TE   \n",
    "\n",
    "\n",
    "<h3>Grader Notes</h3>\n",
    "<b>Your Grade<b>:<br>\n",
    "<b>Grader Initials</b>:<br>\n",
    "<b>Grader Comments</b> (optional):<br>\n",
    "</div>\n",
    "\n",
    "### CS 439 - Introduction to Data Science\n",
    "### Fall 2022\n",
    "\n",
    "# Midsemester Project : Twitter Data Analysis\n",
    "\n",
    "### Due Date : Monday November 23rd, 2022 by 11:59 PM \n",
    "\n",
    "\n",
    "### About this project\n",
    "This is your mid-semester project. You can work on this project in two ways.\n",
    "    \n",
    "#### You can work with a partner\n",
    "Only one partner (max two per group) is allowed. Each person in the group is expected to contribute equally to project. The team needs to do work equivalent to 2 individuals. We will be strict in grading criteria for groups. The team also needs to work hard to find good answers for Part 1 and Part 7. A post questionaire may be given to assess each person contribution. Each person in the team MUST submit a copy of the project. You MUST complete this survey by 11/10 to work as a team <a href=\"https://forms.gle/2qcog71UqQsgovCB8\">CLICK HERE TO FILL THE SURVEY </a>\n",
    "\n",
    "#### You can work by yourself\n",
    "If you work by yourself, you have two parts optional. Part 1 and Part 7. \n",
    "    \n",
    "### Project Purpose    \n",
    " \n",
    "The goal of this mid-semester project is to work with Twitter API to analyze tweets from a person, and in this case, Former President Donald Trump.  @RealDonaldTrump tweets provide a great opportunity to understand how online media can be used to communicate over the traditional media. In fact, social media post are so influential, now the traditional media spends considerable amount of time discussing social media posts. Tweets from people such as Donald Trump and Elon Musk have become so consequential, they can move the stock market on short term and get network TV to debate and discuss hours and hours about what Trump or Musk meant.\n",
    "\n",
    "We hope this project will be fun as we can analyze range of emotions, hope, controversy, vagueness that are part of Trump tweets. We are interested in seeing what conclusions you can draw from US Presidents tweets. \n",
    "* DISCLAIMER: This project is not designed with any bias in mind. Note that we could pick any person (Hillary Clinton or Donald Trump or Elon Musk) or anyone else to do the same analysis. We hope your analysis is objective, independent of any political bias you may have. As Data Scientists, it is our responsiblity to do independent analysis of the data we try to understand. You should follow data and interpret w/o any bias.\n"
   ]
  },
  {
   "cell_type": "markdown",
   "metadata": {
    "id": "nrwHuwfbapPw",
    "tags": []
   },
   "source": [
    "## Set up\n",
    "Let us get all the libaries initialized as necessary"
   ]
  },
  {
   "cell_type": "code",
   "execution_count": null,
   "metadata": {
    "id": "M_FL--h5apPw"
   },
   "outputs": [],
   "source": [
    "# Run this cell to set up your notebook\n",
    "import csv\n",
    "import numpy as np\n",
    "import pandas as pd\n",
    "import matplotlib.pyplot as plt\n",
    "import zipfile\n",
    "import json\n",
    "\n",
    "# Ensure that Pandas shows at least 280 characters in columns, so we can see full tweets\n",
    "pd.set_option('max_colwidth', 280)\n",
    "\n",
    "%matplotlib inline\n",
    "plt.style.use('fivethirtyeight')\n",
    "import seaborn as sns\n",
    "sns.set()\n",
    "sns.set_context(\"talk\")\n",
    "import re"
   ]
  },
  {
   "cell_type": "markdown",
   "metadata": {
    "id": "6ORGPFVgapPx",
    "jp-MarkdownHeadingCollapsed": true,
    "tags": []
   },
   "source": [
    "## Downloading Recent Tweets (group only)\n",
    "It is important to download the most recent tweets (especially if you are working as a group). Those who are working by themselves are allowed to use the downloaded files in data folder w/o setting up access to any twitter API (which can sometime be bit complicated). Twitter provides the API Tweepy (http://www.tweepy.org/) that makes it easy to access twitter content that is publicly available. We will also provide example code as needed."
   ]
  },
  {
   "cell_type": "code",
   "execution_count": null,
   "metadata": {
    "id": "JOOqNiaJapPy"
   },
   "outputs": [],
   "source": [
    "## Make sure you have set up tweepy if you are working locally.\n",
    "# https://www.pythoncentral.io/introduction-to-tweepy-twitter-for-python/\n",
    "# After set up, the following should run:\n",
    "import tweepy"
   ]
  },
  {
   "cell_type": "markdown",
   "metadata": {
    "id": "pSnwuTGlapPy",
    "jp-MarkdownHeadingCollapsed": true,
    "tags": []
   },
   "source": [
    "## PART 1:  Accessing Twitter API  (optional for individuals)\n",
    "In order to access Twitter API, you need to get keys by signing up as a Twitter developer. We will walk you through this process. \n",
    "* if you are working by yourself on this project, you can skip PART 1, and complete the project using the data files provided in the data folder. PART 1 is optional for those working by themselves. However, we highly recommend that you do Part 1 (after completing the project with offline data) if you would like to \"learn\" how to use Twitter API that might be useful."
   ]
  },
  {
   "cell_type": "markdown",
   "metadata": {
    "id": "4ua3d1joapPz"
   },
   "source": [
    "### Task 1.1\n",
    "\n",
    "Follow the instructions below to get your Twitter API keys.  **Read the instructions completely before starting.**\n",
    "\n",
    "1. [Create a Twitter account](https://twitter.com/).  You can use an existing account if you have one; if you prefer to not do this assignment under your regular account, feel free to create a throw-away account.\n",
    "2. Under account settings, add your phone number to the account.\n",
    "3. [Create a Twitter developer account](https://developer.twitter.com/en) by clicking the 'Apply' button on the top right of the page. Attach it to your Twitter account. You'll have to fill out a form describing what you want to do with the developer account. Explain that you are doing this for a class at Rutgers University and that you don't know exactly what you're building yet and just need the account to get started. These applications are approved by some sort of AI system, so it doesn't matter exactly what you write. Just don't enter a bunch of alweiofalwiuhflawiuehflawuihflaiwhfe type stuff or you might get rejected.\n",
    "4. Once you're logged into your developer account, [create an application for this assignment](https://developer.twitter.com/en/docs/projects/overview).  You can call it whatever you want, and you can write any URL when it asks for a web site.  You don't need to provide a callback URL.\n",
    "5. On the page for that application, find your Consumer Key and Consumer Secret.\n",
    "6. On the same page, create an Access Token.  Record the resulting Access Token and Access Token Secret.\n",
    "7. Edit the file [keys.json](keys.json) and replace the placeholders with your keys."
   ]
  },
  {
   "cell_type": "markdown",
   "metadata": {
    "id": "1OgUJbFCapP0",
    "jp-MarkdownHeadingCollapsed": true,
    "tags": []
   },
   "source": [
    "## WARNING (Please Read) !!!!\n",
    "\n",
    "\n",
    "### Protect your Twitter Keys\n",
    "<span style=\"color:red\">\n",
    "If someone has your authentication keys, they can access your Twitter account and post as you!  So don't give them to anyone, and **don't write them down in this notebook**. \n",
    "</span>\n",
    "The usual way to store sensitive information like this is to put it in a separate file and read it programmatically.  That way, you can share the rest of your code without sharing your keys.  That's why we're asking you to put your keys in `keys.json` for this assignment.\n",
    "\n",
    "\n",
    "### Avoid making too many API calls.\n",
    "\n",
    "<span style=\"color:red\">\n",
    "Twitter limits developers to a certain rate of requests for data.  If you make too many requests in a short period of time, you'll have to wait awhile (around 15 minutes) before you can make more.  </span> \n",
    "So carefully follow the code examples you see and don't rerun cells without thinking.  Instead, always save the data you've collected to a file.  We've provided templates to help you do that.\n",
    "\n",
    "\n",
    "### Be careful about which functions you call!\n",
    "\n",
    "<span style=\"color:red\">\n",
    "This API can retweet tweets, follow and unfollow people, and modify your twitter settings.  Be careful which functions you invoke! </span> It is possible that you can accidentally re-tweet some tweets because you typed `retweet` instead of `retweet_count`. \n",
    "</span>\n"
   ]
  },
  {
   "cell_type": "code",
   "execution_count": null,
   "metadata": {
    "colab": {
     "base_uri": "https://localhost:8080/",
     "height": 232
    },
    "id": "s3GABOPEapP0",
    "outputId": "22edcb96-5f48-4682-8d8c-ed669bca9294"
   },
   "outputs": [],
   "source": [
    "import json\n",
    "key_file = 'keys.json'\n",
    "# Loading your keys from keys.json (which you should have filled\n",
    "# in in question 1):\n",
    "with open(key_file) as f:\n",
    "    keys = json.load(f)\n",
    "# if you print or view the contents of keys be sure to delete the cell!"
   ]
  },
  {
   "cell_type": "markdown",
   "metadata": {
    "id": "woTVwrZWapP1"
   },
   "source": [
    "### Task 1.2 Testing Twitter Authentication\n",
    "This following code should run w/o erros or warnings and display Rutgers University's twitter username"
   ]
  },
  {
   "cell_type": "code",
   "execution_count": null,
   "metadata": {
    "id": "jeF48lesapP1",
    "outputId": "7d96ba32-cb41-4356-b10d-b0f57480bb96"
   },
   "outputs": [],
   "source": [
    "import tweepy\n",
    "from tweepy import TweepyException\n",
    "import logging\n",
    "\n",
    "try:\n",
    "    auth = tweepy.OAuthHandler(keys[\"consumer_key\"], keys[\"consumer_secret\"])\n",
    "    redirect_url = auth.get_authorization_url()\n",
    "    auth.set_access_token(keys[\"access_token\"], keys[\"access_token_secret\"])\n",
    "    api = tweepy.API(auth)\n",
    "    print(\"Rutgers username is:\", api.get_user(screen_name=\"RutgersU\").name)\n",
    "except TweepyException as e:\n",
    "    logging.warning(\"There was a Tweepy error. Double check your API keys and try again.\")\n",
    "    logging.warning(e)"
   ]
  },
  {
   "cell_type": "markdown",
   "metadata": {},
   "source": [
    "### Task 1.3\n",
    "\n",
    "### What you need to do. \n",
    "\n",
    "Re-factor the above code fragment into reusable snippets below.  You should not need to make major modifications; this is mostly an exercise in understanding the above code block. "
   ]
  },
  {
   "cell_type": "code",
   "execution_count": null,
   "metadata": {},
   "outputs": [],
   "source": [
    "def load_keys(path):\n",
    "    \"\"\"Loads your Twitter authentication keys from a file on disk.\n",
    "    \n",
    "    Args:\n",
    "        path (str): The path to your key file.  The file should\n",
    "          be in JSON format and look like this (but filled in):\n",
    "            {\n",
    "                \"consumer_key\": \"<your Consumer Key here>\",\n",
    "                \"consumer_secret\":  \"<your Consumer Secret here>\",\n",
    "                \"access_token\": \"<your Access Token here>\",\n",
    "                \"access_token_secret\": \"<your Access Token Secret here>\"\n",
    "            }\n",
    "    \n",
    "    Returns:\n",
    "        dict: A dictionary mapping key names (like \"consumer_key\") to\n",
    "          key values.\"\"\"\n",
    "    \n",
    "    ### BEGIN ANSWER\n",
    "   \n",
    "    # your solution here\n",
    "\n",
    "    ### END ANSWER"
   ]
  },
  {
   "cell_type": "code",
   "execution_count": null,
   "metadata": {},
   "outputs": [],
   "source": [
    "def download_recent_tweets_by_user(user_account_name, keys):\n",
    "    \"\"\"Downloads tweets by one Twitter user.\n",
    "\n",
    "    Args:\n",
    "        user_account_name (str): The name of the Twitter account\n",
    "          whose tweets will be downloaded.\n",
    "        keys (dict): A Python dictionary with Twitter authentication\n",
    "          keys (strings), like this (but filled in):\n",
    "            {\n",
    "                \"consumer_key\": \"<your Consumer Key here>\",\n",
    "                \"consumer_secret\":  \"<your Consumer Secret here>\",\n",
    "                \"access_token\": \"<your Access Token here>\",\n",
    "                \"access_token_secret\": \"<your Access Token Secret here>\"\n",
    "            }\n",
    "\n",
    "    Returns:\n",
    "        list: A list of Dictonary objects, each representing one tweet.\"\"\"\n",
    "    import tweepy\n",
    "    \n",
    "   ### BEGIN ANSWER\n",
    "   \n",
    "    # your solution here\n",
    "\n",
    "    ### END ANSWER"
   ]
  },
  {
   "cell_type": "code",
   "execution_count": null,
   "metadata": {},
   "outputs": [],
   "source": [
    "def load_tweets(path):\n",
    "    \"\"\"Loads tweets that have previously been saved.\n",
    "    \n",
    "    Calling load_tweets(path) after save_tweets(tweets, path)\n",
    "    will produce the same list of tweets.\n",
    "    \n",
    "    Args:\n",
    "        path (str): The place where the tweets were be saved.\n",
    "\n",
    "    Returns:\n",
    "        list: A list of Dictionary objects, each representing one tweet.\"\"\"\n",
    "    \n",
    "    ### BEGIN ANSWER\n",
    "   \n",
    "    # your solution here\n",
    "\n",
    "    ### END ANSWER"
   ]
  },
  {
   "cell_type": "code",
   "execution_count": null,
   "metadata": {},
   "outputs": [],
   "source": [
    "def get_tweets_with_cache(user_account_name, keys_path):\n",
    "    \"\"\"Get recent tweets from one user, loading from a disk cache if available.\n",
    "    \n",
    "    The first time you call this function, it will download tweets by\n",
    "    a user.  Subsequent calls will not re-download the tweets; instead\n",
    "    they'll load the tweets from a save file in your local filesystem.\n",
    "    All this is done using the functions you defined in the previous cell.\n",
    "    This has benefits and drawbacks that often appear when you cache data:\n",
    "    \n",
    "    +: Using this function will prevent extraneous usage of the Twitter API.\n",
    "    +: You will get your data much faster after the first time it's called.\n",
    "    -: If you really want to re-download the tweets (say, to get newer ones,\n",
    "       or because you screwed up something in the previous cell and your\n",
    "       tweets aren't what you wanted), you'll have to find the save file\n",
    "       (which will look like <something>_recent_tweets.pkl) and delete it.\n",
    "    \n",
    "    Args:\n",
    "        user_account_name (str): The Twitter handle of a user, without the @.\n",
    "        keys_path (str): The path to a JSON keys file in your filesystem.\n",
    "    \"\"\"\n",
    "    \n",
    "    ### BEGIN ANSWER\n",
    "   \n",
    "    # your solution here\n",
    "\n",
    "    ### END ANSWER"
   ]
  },
  {
   "cell_type": "markdown",
   "metadata": {},
   "source": [
    "### Task 1.4\n",
    "If everything was implemented correctly you should be able to obtain roughly the last 3000 tweets by @RutgersU. (This may take a few minutes)"
   ]
  },
  {
   "cell_type": "code",
   "execution_count": null,
   "metadata": {},
   "outputs": [],
   "source": [
    "# When you are done, run this cell to load @RutgersU 's tweets.\n",
    "# Note the function get_tweets_with_cache.  You may find it useful\n",
    "# later.\n",
    "rutgers_tweets = get_tweets_with_cache(\"RutgersU\", key_file)\n",
    "print(\"Number of tweets downloaded:\", len(rutgers_tweets))"
   ]
  },
  {
   "cell_type": "markdown",
   "metadata": {
    "id": "usVPef0dapP2",
    "tags": []
   },
   "source": [
    "## PART 2 - Working with Twitter Data (group and individual)\n",
    "The json file in data folder contains (to be downloaded by you) some loaded tweets from @RutgersU. Run it and read the code. You can also try other json files in the data folder to try this. "
   ]
  },
  {
   "cell_type": "code",
   "execution_count": null,
   "metadata": {
    "id": "LtJWj1sVapP2"
   },
   "outputs": [],
   "source": [
    "from pathlib import Path\n",
    "import json\n",
    "\n",
    "ds_tweets_save_path = \"data/RutgersU_recent_tweets.json\"   # need to get this file\n",
    "\n",
    "# Guarding against attempts to download the data multiple\n",
    "# times:\n",
    "if not Path(ds_tweets_save_path).is_file():\n",
    "    # Getting as many recent tweets by @RutgersU as Twitter will let us have.\n",
    "    # We use tweet_mode='extended' so that Twitter gives us full 280 character tweets.\n",
    "    # This was a change introduced in September 2017.\n",
    "    \n",
    "    # The tweepy Cursor API actually returns \"sophisticated\" Status objects but we \n",
    "    # will use the basic Python dictionaries stored in the _json field. \n",
    "    example_tweets = [t._json for t in tweepy.Cursor(api.user_timeline, screen_name=\"RutgersU\", \n",
    "                                             tweet_mode='extended').items()]\n",
    "    \n",
    "    # Saving the tweets to a json file on disk for future analysis\n",
    "    with open(ds_tweets_save_path, \"w\") as f:        \n",
    "        json.dump(example_tweets, f)\n",
    "\n",
    "# Re-loading the json file:\n",
    "with open(ds_tweets_save_path, \"r\") as f:\n",
    "    example_tweets = json.load(f)"
   ]
  },
  {
   "cell_type": "markdown",
   "metadata": {
    "id": "hPx2hgTcapP3"
   },
   "source": [
    "If things ran as expected, you should be able to look at the first tweet by running the code below. It probabably does not make sense to view all tweets in a notebook, as size of the tweets can freeze your browser (always a good idea to press ctrl-S to save the latest, in case you have to restart Jupyter)"
   ]
  },
  {
   "cell_type": "code",
   "execution_count": null,
   "metadata": {
    "id": "V6YxFwAKapP3",
    "outputId": "9c8bb2ee-4f49-4f05-cc2b-546fd168dd25"
   },
   "outputs": [],
   "source": [
    "# Looking at one tweet object, which has type Status: \n",
    "from pprint import pprint # ...to get a more easily-readable view.\n",
    "pprint(example_tweets[0])"
   ]
  },
  {
   "cell_type": "markdown",
   "metadata": {
    "id": "6vhrwHw5apP5"
   },
   "source": [
    "### Task 2.2\n",
    "To be consistent we are going to use the same dataset no matter what you get from your twitter api. So from this point on, if you are working as a group or individually, be sure to use the data sets provided to you in the zip file. There should be two json files inside your data folder. One is '2017-2018.json', the other one is '2016-2017.json'. We will load the '2017-2018.json' first."
   ]
  },
  {
   "cell_type": "code",
   "execution_count": null,
   "metadata": {
    "id": "kLq9NDhAapP5"
   },
   "outputs": [],
   "source": [
    "def load_tweets(path):\n",
    "    \"\"\"Loads tweets that have previously been saved.\n",
    "    \n",
    "    Calling load_tweets(path) after save_tweets(tweets, path)\n",
    "    will produce the same list of tweets.\n",
    "    \n",
    "    Args:\n",
    "        path (str): The place where the tweets will be saved.\n",
    "\n",
    "    Returns:\n",
    "        list: A list of Dictionary objects, each representing one tweet.\"\"\"\n",
    "    \n",
    "    with open(path, \"rb\") as f:\n",
    "        return json.load(f)"
   ]
  },
  {
   "cell_type": "code",
   "execution_count": null,
   "metadata": {
    "id": "xW1xN_3XapP6"
   },
   "outputs": [],
   "source": [
    "dest_path = 'data/2017-2018.json'\n",
    "trump_tweets = load_tweets(dest_path)"
   ]
  },
  {
   "cell_type": "markdown",
   "metadata": {
    "id": "_i_aHCjSapP6"
   },
   "source": [
    "If everything is working correctly correctly this should load roughly the last 3000 tweets by `realdonaldtrump`."
   ]
  },
  {
   "cell_type": "code",
   "execution_count": null,
   "metadata": {
    "id": "xr55obB8apP6"
   },
   "outputs": [],
   "source": [
    "assert 2000 <= len(trump_tweets) <= 4000"
   ]
  },
  {
   "cell_type": "markdown",
   "metadata": {
    "id": "WjYXBPCpapP6"
   },
   "source": [
    "If the assert statement above works, then continue on to task 2.3.\n",
    "\n",
    "### Task 2.3\n",
    "\n",
    "Find the number of the month of the oldest tweet."
   ]
  },
  {
   "cell_type": "code",
   "execution_count": null,
   "metadata": {
    "id": "lYPMcwPdapP6"
   },
   "outputs": [],
   "source": [
    "# Enter the number of the month of the oldest tweet (e.g. 1 for January)\n",
    "trump_tweets = pd.DataFrame(trump_tweets)\n",
    "\n",
    "### BEGIN ANSWER\n",
    "month_list = ['buffer', 'Jan', 'Feb', 'Mar', 'Apr', 'May', 'Jun', 'Jul', 'Aug', 'Sep', 'Oct', 'Nov', 'Dec']\n",
    "latest_month = month_list.index(trump_tweets.loc[0, 'created_at'][4:7])\n",
    "# print(latest_month)\n",
    "\n",
    "for date in trump_tweets['created_at']:\n",
    "    month = date[4:7]\n",
    "    year = date[26:30]\n",
    "    \n",
    "    if (month_list.index(month) < latest_month and int(year) == 2016):\n",
    "        latest_month = month_list.index(month)\n",
    "        \n",
    "print(f'oldest_month = {latest_month}') \n",
    "### END ANSWER"
   ]
  },
  {
   "cell_type": "markdown",
   "metadata": {
    "id": "cNdIIfM4apP6"
   },
   "source": [
    "## PART 3  Twitter Source Analysis (group and individual)\n",
    "\n"
   ]
  },
  {
   "cell_type": "markdown",
   "metadata": {
    "id": "bnZTwTGRapP6"
   },
   "source": [
    "### Task 3.1\n",
    "\n",
    "Create a new data frame from `2016-2017.json` and merge with `trump_tweets` \n",
    "\n",
    "**Important:** There may/will be some overlap so be sure to __eliminate duplicate tweets__. If you do not eliminate the duplicates properly, your results might not be compatible with the test solution. \n",
    "**Hint:** the `id` of a tweet is always unique."
   ]
  },
  {
   "cell_type": "code",
   "execution_count": null,
   "metadata": {
    "id": "UKw0vaWTapP6"
   },
   "outputs": [],
   "source": [
    "# if you do not have new tweets, then all_tweets is the same as  old_trump_tweets\n",
    "### BEGIN ANSWER\n",
    "all_tweets = pd.DataFrame(load_tweets('data/2016-2017.json'))\n",
    "all_tweets['id'] = all_tweets['id'].astype('int64')\n",
    "trump_tweets['id'] = trump_tweets['id'].astype('int64')\n",
    "all_tweets = (pd.concat([all_tweets, trump_tweets], axis=0, ignore_index = True)).drop_duplicates(subset=['created_at', 'id'], keep='first')\n",
    "### END ANSWER\n",
    "assert(len(all_tweets) == 9478) \n",
    "# len(all_tweets)"
   ]
  },
  {
   "cell_type": "markdown",
   "metadata": {
    "id": "w2f3pX1TapP6"
   },
   "source": [
    "### Task 3.2\n",
    "Construct a DataFrame called `df_trump` containing all the tweets stored in `all_tweets`. The index of the dataframe should be the ID of each tweet (looks something like `907698529606541312`). It should have these columns:\n",
    "\n",
    "- `time`: The time the tweet was created encoded as a datetime object. (Use `pd.to_datetime` to encode the timestamp.)\n",
    "- `source`: The source device of the tweet.\n",
    "- `text`: The text of the tweet.\n",
    "- `retweet_count`: The retweet count of the tweet. \n",
    "\n",
    "Finally, **the resulting dataframe should be sorted by the index.**\n",
    "\n",
    "**Warning:** *Some tweets will store the text in the `text` field and other will use the `full_text` field.*\n",
    "\n",
    "**Warning:** *Don't forget to check the type of index*"
   ]
  },
  {
   "cell_type": "code",
   "execution_count": null,
   "metadata": {
    "id": "BaBrQPLNapP6"
   },
   "outputs": [],
   "source": [
    "### BEGIN ANSWER\n",
    "import datetime\n",
    "\n",
    "df_trump = all_tweets.copy()\n",
    "df_trump = df_trump[['id','created_at','source','text','full_text','retweet_count']]\n",
    "df_trump['created_at'] = pd.to_datetime(df_trump['created_at'])\n",
    "df_trump['id'] = df_trump['id'].astype(str)\n",
    "\n",
    "for index, row in df_trump.iterrows():\n",
    "    if(pd.isnull(row['text'])):\n",
    "        df_trump.at[index, 'text'] = row['full_text']\n",
    "\n",
    "df_trump.drop(columns=['full_text'], inplace = True)\n",
    "df_trump.rename(columns = {'created_at': 'time'}, inplace = True)\n",
    "df_trump.set_index('id', inplace = True)\n",
    "df_trump = df_trump.sort_index()\n",
    "\n",
    "df_trump.head(5)\n",
    "### END ANSWER"
   ]
  },
  {
   "cell_type": "markdown",
   "metadata": {
    "id": "w8WbUgNBapP7"
   },
   "source": [
    "In the following questions, we are going to find out the charateristics of Trump tweets and the devices used for the tweets.\n",
    "\n",
    "First let's examine the source field:"
   ]
  },
  {
   "cell_type": "code",
   "execution_count": null,
   "metadata": {
    "id": "NiXXHDmpapP7"
   },
   "outputs": [],
   "source": [
    "df_trump['source'].unique()"
   ]
  },
  {
   "cell_type": "markdown",
   "metadata": {
    "id": "pR-pQJ-FapP7"
   },
   "source": [
    "## Task 3.3\n",
    "\n",
    "Remove the HTML tags from the source field. \n",
    "\n",
    "**Hint:** Use `df_trump['source'].str.replace` and your favorite regular expression."
   ]
  },
  {
   "cell_type": "code",
   "execution_count": null,
   "metadata": {
    "id": "uys4JaIuapP7"
   },
   "outputs": [],
   "source": [
    "import re\n",
    "### BEGIN ANSWER\n",
    "df_trump['source'] = df_trump['source'].str.replace('<.*\\\">','',regex = True)\n",
    "df_trump['source'] = df_trump['source'].str.replace('</a>','',regex = True)\n",
    "df_trump['source'].unique()\n",
    "### END ANSWER"
   ]
  },
  {
   "cell_type": "markdown",
   "metadata": {
    "id": "PZo4QU7MapP7"
   },
   "source": [
    "### Make a plot to find out the most common device types used in accessing twitter\n",
    "\n",
    "Sort the plot in decreasing order of the most common device type"
   ]
  },
  {
   "cell_type": "code",
   "execution_count": null,
   "metadata": {
    "id": "WOdz32WZapP7"
   },
   "outputs": [],
   "source": [
    "### BEGIN ANSWER\n",
    "plt.figure()\n",
    "\n",
    "devices = df_trump['source'].value_counts()\n",
    "device_plot = sns.countplot(y = \"source\", data= df_trump, order = df_trump['source'].value_counts(ascending = False).index)\n",
    "device_plot.set(xlabel= 'Device', ylabel= 'Number of Tweets', title = \"Most Common Device Types Used in Accessing Twitter\")\n",
    "\n",
    "plt.show();\n",
    "### END ANSWER"
   ]
  },
  {
   "cell_type": "markdown",
   "metadata": {
    "id": "ZatUeX2capP7"
   },
   "source": [
    "### Task 3.4\n",
    "Is there a difference between his Tweet behavior across these devices? We will attempt to answer this question in our subsequent analysis.\n",
    "\n",
    "First, we'll take a look at whether Trump's tweets from an Android come at different times than his tweets from an iPhone. Note that Twitter gives us his tweets in the [UTC timezone](https://www.wikiwand.com/en/List_of_UTC_time_offsets) (notice the `+0000` in the first few tweets)\n",
    "\n",
    "**Note** - If your `time` column is not in datetime format, the following code will not work."
   ]
  },
  {
   "cell_type": "code",
   "execution_count": null,
   "metadata": {
    "id": "VhBLwCxcapP7"
   },
   "outputs": [],
   "source": [
    "df_trump['time'].iloc[0:3]"
   ]
  },
  {
   "cell_type": "markdown",
   "metadata": {
    "id": "CN0KG6ktapP7"
   },
   "source": [
    "We'll convert the tweet times to US Eastern Time, the timezone of New York and Washington D.C., since those are the places we would expect the most tweet activity from Trump."
   ]
  },
  {
   "cell_type": "code",
   "execution_count": null,
   "metadata": {
    "id": "0uB-3WK4apP7"
   },
   "outputs": [],
   "source": [
    "df_trump['time'] =  pd.to_datetime(df_trump['time'])\n",
    "df_trump['est_time'] = (df_trump['time'].dt.tz_convert(\"EST\"))\n",
    "df_trump.head()"
   ]
  },
  {
   "cell_type": "markdown",
   "metadata": {
    "id": "pTusdoO5apP7"
   },
   "source": [
    "**What you need to do:**\n",
    "\n",
    "Add a column called `hour` to the `df_trump` table which contains the hour of the day as floating point number computed by:\n",
    "\n",
    "$$\n",
    "\\text{hour} + \\frac{\\text{minute}}{60} + \\frac{\\text{second}}{60^2}\n",
    "$$"
   ]
  },
  {
   "cell_type": "code",
   "execution_count": null,
   "metadata": {
    "id": "UhkJKBxeapP8"
   },
   "outputs": [],
   "source": [
    "df_trump['hour'] = [time.hour + (time.minute/60) + (time.second/(60*60)) for time in df_trump['est_time']]\n",
    "df_trump['roundhour'] = round(df_trump['hour']).astype(int)%24\n",
    "df_trump.loc[df_trump[\"roundhour\"] == 0, \"roundhour\"] = 24"
   ]
  },
  {
   "cell_type": "code",
   "execution_count": null,
   "metadata": {
    "id": "EkFBxTQOapP8"
   },
   "outputs": [],
   "source": [
    "assert np.isclose(df_trump.loc[\"690171032150237184\"]['hour'], 8.93639)"
   ]
  },
  {
   "cell_type": "markdown",
   "metadata": {
    "id": "Ib6CTpMTapP8"
   },
   "source": [
    "df_trump['roundhour'].value_counts()Use the `roundhour` column and plot the number of tweets at every hour of the day.\n",
    "Order the plot using the hour of the day (1 to 24). Use seaborn `countplot`"
   ]
  },
  {
   "cell_type": "code",
   "execution_count": null,
   "metadata": {},
   "outputs": [],
   "source": [
    "# make a bar plot here\n",
    "### BEGIN ANSWER\n",
    "plt.figure(figsize=(15,10))\n",
    "\n",
    "times = df_trump['roundhour'].value_counts()\n",
    "timePlot = sns.countplot(x = \"roundhour\", data= df_trump,  order = times.keys().sort_values(ascending = True))\n",
    "timePlot.set(xlabel= 'Hour of Day', ylabel= 'Number of Tweets', title = \"Number of Tweets at Every Hour of the Day\")\n",
    "\n",
    "plt.show();\n",
    "### END ANSWER"
   ]
  },
  {
   "cell_type": "markdown",
   "metadata": {
    "id": "mGD_SCtAapP8"
   },
   "source": [
    "Now, use this data along with the seaborn `distplot` function to examine the distribution over hours of the day in eastern time that trump tweets on each device for the 2 most commonly used devices.  Your plot should look somewhat similar to the following.\n",
    "<img src=\"images/device_hour2.png\" align=\"left\" alt=\"Drawing\" style=\"width: 400px;\"/>\n"
   ]
  },
  {
   "cell_type": "code",
   "execution_count": null,
   "metadata": {
    "id": "_lXwAyKFapP8"
   },
   "outputs": [],
   "source": [
    "### BEGIN ANSWER\n",
    "plt.figure(figsize=(8,5))\n",
    "\n",
    "iphone = df_trump[df_trump['source'] == 'Twitter for iPhone']\n",
    "android = df_trump[df_trump['source'] == 'Twitter for Android']\n",
    "\n",
    "sns.distplot(iphone['hour'], hist=False, label= 'Tweeted from iPhone', color='b')\n",
    "sns.distplot(android['hour'], hist=False, label = 'Tweeted from Android', color='r')\n",
    "\n",
    "plt.legend()\n",
    "plt.show();\n",
    "### END ANSWER"
   ]
  },
  {
   "cell_type": "markdown",
   "metadata": {
    "id": "L1jbqJBqapP8"
   },
   "source": [
    "### Task 3.5\n",
    "\n",
    "According to [this Verge article](https://www.theverge.com/2017/3/29/15103504/donald-trump-iphone-using-switched-android), Donald Trump switched from an Android to an iPhone sometime in March 2017.\n",
    "\n",
    "Create a figure identical to your figure from 3.4, except that you should show the results only from 2016. If you get stuck consider looking at the `year_fraction` function from the next problem.\n",
    "\n",
    "Use this data along with the seaborn `distplot` function to examine the distribution over hours of the day in eastern time that trump tweets on each device for the 2 most commonly used devices.  Your plot should look somewhat similar to the following. \n",
    "\n",
    "During the campaign, it was theorized that Donald Trump's tweets from Android were written by him personally, and the tweets from iPhone were from his staff. Does your figure give support the theory?\n",
    "\n",
    "Response: In 2016, the time allocation for the usage of the iPhone centered in the afternoon, while his tweets from 2015 to present shows that he mostly tweets in the morning. It seems that the tweets from iPhone in 2016 were from his staff, not himself."
   ]
  },
  {
   "cell_type": "markdown",
   "metadata": {
    "id": "BKGr1_ULapP8"
   },
   "source": [
    "\\\\\n",
    "<img src=\"images/device_hour2.png\" align=\"left\" alt=\"Drawing\" style=\"width: 600px;\"/>\n"
   ]
  },
  {
   "cell_type": "code",
   "execution_count": null,
   "metadata": {
    "id": "QHtptHMCapP8"
   },
   "outputs": [],
   "source": [
    "### BEGIN ANSWER\n",
    "plt.figure(figsize=(8,5))\n",
    "\n",
    "df_trump['year_dt'] = [date.year for date in df_trump['est_time']]\n",
    "df_trump_2016 = df_trump[df_trump['year_dt'] == 2016]\n",
    "\n",
    "iphone = df_trump_2016[df_trump_2016['source'] == 'Twitter for iPhone']\n",
    "android = df_trump_2016[df_trump_2016['source'] == 'Twitter for Android']\n",
    "\n",
    "sns.distplot(iphone['hour'], hist=False, label= 'Tweeted from iPhone', color='b')\n",
    "sns.distplot(android['hour'], hist=False, label = 'Tweeted from Android', color='r')\n",
    "\n",
    "plt.ylabel('fraction')\n",
    "plt.legend()\n",
    "plt.show();\n",
    "### END ANSWER"
   ]
  },
  {
   "cell_type": "markdown",
   "metadata": {
    "id": "1XFRyB9FapP8",
    "jp-MarkdownHeadingCollapsed": true,
    "tags": []
   },
   "source": [
    "### Task 3.6\n",
    "Edit this cell to answer the following questions.\n",
    "* What time of the day the Android tweets were made by Trump himself? (eg: morning, late night etc)\n",
    "\n",
    "The Android tweets made by Trump himself seem to be more in the morning and at night.\n",
    "\n",
    "* What time of the day the Android tweets were made by paid staff?\n",
    "\n",
    "Most of the Android tweets made by paid staff was during the afternoon and night.\n",
    "\n",
    "**Note that these are speculations based on what you observe in the data set."
   ]
  },
  {
   "cell_type": "markdown",
   "metadata": {
    "id": "P0zbpLZUapP9"
   },
   "source": [
    "### Task 3.7 Device Analysis\n",
    "Let's now look at which device he has used over the entire time period of this dataset.\n",
    "\n",
    "To examine the distribution of dates we will convert the date to a fractional year that can be plotted as a distribution.\n",
    "\n",
    "(Code borrowed from https://stackoverflow.com/questions/6451655/python-how-to-convert-datetime-dates-to-decimal-years)"
   ]
  },
  {
   "cell_type": "code",
   "execution_count": null,
   "metadata": {
    "id": "4OEbR4afapP9"
   },
   "outputs": [],
   "source": [
    "import datetime\n",
    "def year_fraction(date):\n",
    "    start = datetime.date(date.year, 1, 1).toordinal()\n",
    "    year_length = datetime.date(date.year+1, 1, 1).toordinal() - start\n",
    "    return date.year + float(date.toordinal() - start) / year_length\n",
    "\n",
    "df_trump['year'] = df_trump['time'].apply(year_fraction) #should be df_trump"
   ]
  },
  {
   "cell_type": "markdown",
   "metadata": {
    "id": "7j4xEBAOapP9"
   },
   "source": [
    "Use the `sns.distplot` to overlay the distributions of the 2 most frequently used web technologies over the years.  Your final plot should be similar to:\n",
    "\n",
    "![title](images/source_years.png)"
   ]
  },
  {
   "cell_type": "code",
   "execution_count": null,
   "metadata": {
    "id": "oRdFIObiapP9"
   },
   "outputs": [],
   "source": [
    "plt.figure()\n",
    "### BEGIN ANSWER\n",
    "iphone = df_trump[df_trump['source'] == 'Twitter for iPhone']\n",
    "android = df_trump[df_trump['source'] == 'Twitter for Android']\n",
    "\n",
    "ax = sns.distplot(iphone['year'], hist=True, label= 'iPhone')\n",
    "ax = sns.distplot(android['year'], hist=True, label = 'Android')\n",
    "ax.set(xticks=(2016,2017,2018,2019))\n",
    "ax.set_ylabel('Tweets')\n",
    "\n",
    "plt.legend()\n",
    "plt.show();\n",
    "### END ANSWER"
   ]
  },
  {
   "cell_type": "markdown",
   "metadata": {
    "id": "Nn0opKxWapP9"
   },
   "source": [
    "## PART 4 - Sentiment Analysis  (group and individual)\n",
    "\n",
    "It turns out that we can use the words in Trump's tweets to calculate a measure of the sentiment of the tweet. For example, the sentence \"I love America!\" has positive sentiment, whereas the sentence \"I hate taxes!\" has a negative sentiment. In addition, some words have stronger positive / negative sentiment than others: \"I love America.\" is more positive than \"I like America.\"\n",
    "\n",
    "We will use the [VADER (Valence Aware Dictionary and sEntiment Reasoner)](https://github.com/cjhutto/vaderSentiment) lexicon to analyze the sentiment of Trump's tweets. VADER is a lexicon and rule-based sentiment analysis tool that is specifically attuned to sentiments expressed in social media which is great for our usage.\n",
    "\n",
    "The VADER lexicon gives the sentiment of individual words. Run the following cell to show the first few rows of the lexicon:"
   ]
  },
  {
   "cell_type": "code",
   "execution_count": null,
   "metadata": {
    "id": "NICSCaj_apP9",
    "outputId": "f2ddb09d-b75a-41c9-a12b-89eec667c346"
   },
   "outputs": [],
   "source": [
    "print(''.join(open(\"data/vader_lexicon.txt\").readlines()[:10]))"
   ]
  },
  {
   "cell_type": "markdown",
   "metadata": {
    "id": "Cqr5pItGapP9"
   },
   "source": [
    "### Task 4.1\n",
    "\n",
    "As you can see, the lexicon contains emojis too! The first column of the lexicon is the *token*, or the word itself. The second column is the *polarity* of the word, or how positive / negative it is.\n",
    "\n",
    "(How did they decide the polarities of these words? What are the other two columns in the lexicon? See the link above.)\n",
    "\n",
    " Read in the lexicon into a DataFrame called `df_sent`. The index of the DF should be the tokens in the lexicon. `df_sent` should have one column: `polarity`: The polarity of each token."
   ]
  },
  {
   "cell_type": "code",
   "execution_count": null,
   "metadata": {
    "id": "TR_upovHapP9"
   },
   "outputs": [],
   "source": [
    "### BEGIN ANSWER\n",
    "df_sent = pd.read_table('data/vader_lexicon.txt', header = None)\n",
    "df_sent.set_index(0, inplace = True)\n",
    "df_sent = df_sent.drop([2,3], axis = 1)\n",
    "df_sent = df_sent.rename(columns = {1:'polarity'})\n",
    "df_sent\n",
    "### END ANSWER"
   ]
  },
  {
   "cell_type": "markdown",
   "metadata": {
    "id": "rP0VMBSFapP9"
   },
   "source": [
    "### Task 4.2\n",
    "\n",
    "Now, let's use this lexicon to calculate the overall sentiment for each of Trump's tweets. Here's the basic idea:\n",
    "\n",
    "1. For each tweet, find the sentiment of each word.\n",
    "2. Calculate the sentiment of each tweet by taking the sum of the sentiments of its words.\n",
    "\n",
    "First, let's lowercase the text in the tweets since the lexicon is also lowercase. Set the `text` column of the `df_trump` DF to be the lowercased text of each tweet."
   ]
  },
  {
   "cell_type": "code",
   "execution_count": null,
   "metadata": {
    "id": "s5sBadfbapP9"
   },
   "outputs": [],
   "source": [
    "### BEGIN ANSWER\n",
    "df_trump['text'] = df_trump['text'].str.lower()\n",
    "### END ANSWER"
   ]
  },
  {
   "cell_type": "markdown",
   "metadata": {
    "id": "cqK4HQNVapP-"
   },
   "source": [
    "### Task 4.3\n",
    "\n",
    "Now, let's get rid of punctuation since it'll cause us to fail to match words. Create a new column called `no_punc` in the `df_trump` to be the lowercased text of each tweet with all punctuation replaced by a single space. We consider punctuation characters to be any character that isn't a Unicode word character or a whitespace character. You may want to consult the Python documentation on regexes for this problem.\n",
    "\n",
    "(Why don't we simply remove punctuation instead of replacing with a space? See if you can figure this out by looking at the tweet data.)"
   ]
  },
  {
   "cell_type": "code",
   "execution_count": null,
   "metadata": {
    "id": "QNAvW1axapP-"
   },
   "outputs": [],
   "source": [
    "# Save your regex in punct_re\n",
    "punct_re = r'[^\\w\\s\\\\n]'\n",
    "### BEGIN ANSWER\n",
    "df_trump['no_punc'] = df_trump['text'].str.replace(punct_re, \" \", regex = True)\n",
    "### END ANSWER"
   ]
  },
  {
   "cell_type": "code",
   "execution_count": null,
   "metadata": {
    "id": "fmaOn2D7apP-"
   },
   "outputs": [],
   "source": [
    "assert isinstance(punct_re, str)\n",
    "assert re.search(punct_re, 'this') is None\n",
    "assert re.search(punct_re, 'this is ok') is None\n",
    "assert re.search(punct_re, 'this is\\nok') is None\n",
    "assert re.search(punct_re, 'this is not ok.') is not None\n",
    "assert re.search(punct_re, 'this#is#ok') is not None\n",
    "assert re.search(punct_re, 'this^is ok') is not None\n",
    "assert df_trump['no_punc'].loc['800329364986626048'] == 'i watched parts of  nbcsnl saturday night live last night  it is a totally one sided  biased show   nothing funny at all  equal time for us '\n",
    "assert df_trump['text'].loc['884740553040175104'] == 'working hard to get the olympics for the united states (l.a.). stay tuned!'\n"
   ]
  },
  {
   "cell_type": "markdown",
   "metadata": {
    "id": "2KsT--c-apP-"
   },
   "source": [
    "### Task 4.4\n",
    "\n",
    "\n",
    "Now, let's convert the tweets into what's called a [*tidy format*](https://cran.r-project.org/web/packages/tidyr/vignettes/tidy-data.html) to make the sentiments easier to calculate. Use the `no_punc` column of `df_trump` to create a table called `tidy_format`. The index of the table should be the IDs of the tweets, repeated once for every word in the tweet. It has two columns:\n",
    "\n",
    "1. `num`: The location of the word in the tweet. For example, if the tweet was \"i love america\", then the location of the word \"i\" is 0, \"love\" is 1, and \"america\" is 2.\n",
    "2. `word`: The individual words of each tweet.\n",
    "\n",
    "The first few rows of our `tidy_format` table look like:\n",
    "\n",
    "<table border=\"1\" class=\"dataframe\">\n",
    "  <thead>\n",
    "    <tr style=\"text-align: right;\">\n",
    "      <th></th>\n",
    "      <th>num</th>\n",
    "      <th>word</th>\n",
    "    </tr>\n",
    "  </thead>\n",
    "  <tbody>\n",
    "    <tr>\n",
    "      <th>894661651760377856</th>\n",
    "      <td>0</td>\n",
    "      <td>i</td>\n",
    "    </tr>\n",
    "    <tr>\n",
    "      <th>894661651760377856</th>\n",
    "      <td>1</td>\n",
    "      <td>think</td>\n",
    "    </tr>\n",
    "    <tr>\n",
    "      <th>894661651760377856</th>\n",
    "      <td>2</td>\n",
    "      <td>senator</td>\n",
    "    </tr>\n",
    "    <tr>\n",
    "      <th>894661651760377856</th>\n",
    "      <td>3</td>\n",
    "      <td>blumenthal</td>\n",
    "    </tr>\n",
    "    <tr>\n",
    "      <th>894661651760377856</th>\n",
    "      <td>4</td>\n",
    "      <td>should</td>\n",
    "    </tr>\n",
    "  </tbody>\n",
    "</table>\n",
    "\n",
    "You can double check that your tweet with ID `894661651760377856` has the same rows as ours. Our tests don't check whether your table looks exactly like ours.\n",
    "\n",
    "As usual, try to avoid using any for loops. Our solution uses a chain of 5 methods on the 'trump' DF, albeit using some rather advanced Pandas hacking.\n",
    "\n",
    "* **Hint 1:** Try looking at the `expand` argument to pandas' `str.split`.\n",
    "\n",
    "* **Hint 2:** Try looking at the `stack()` method.\n",
    "\n",
    "* **Hint 3:** Try looking at the `level` parameter of the `reset_index` method."
   ]
  },
  {
   "cell_type": "code",
   "execution_count": null,
   "metadata": {
    "id": "BqaENYt3apP-"
   },
   "outputs": [],
   "source": [
    "# tidy_format = ...\n",
    "### BEGIN ANSWER\n",
    "words = df_trump['no_punc'].str.split(expand = True)\n",
    "word_stack = words.stack()\n",
    "tidy_format = word_stack.to_frame().reset_index(level = 1)\n",
    "tidy_format = tidy_format.rename(columns = {'level_1':'num', 0:'word'})\n",
    "# tidy_format.loc['894661651760377856']\n",
    "tidy_format.head(5)\n",
    "### END ANSWER"
   ]
  },
  {
   "cell_type": "code",
   "execution_count": null,
   "metadata": {
    "id": "WPHMJKK1apP-"
   },
   "outputs": [],
   "source": [
    "assert tidy_format.loc['894661651760377856'].shape == (27, 2)\n",
    "assert ' '.join(list(tidy_format.loc['894661651760377856']['word'])) == 'i think senator blumenthal should take a nice long vacation in vietnam where he lied about his service so he can at least say he was there'"
   ]
  },
  {
   "cell_type": "markdown",
   "metadata": {
    "id": "LCkJmueyapP-"
   },
   "source": [
    "### Task 4.5\n",
    "\n",
    "Now that we have this table in the tidy format, it becomes much easier to find the sentiment of each tweet: we can join the table with the lexicon table. \n",
    "\n",
    "Add a `polarity` column to the `df_trump` table.  The `polarity` column should contain the sum of the sentiment polarity of each word in the text of the tweet.\n",
    "\n",
    "**Hint** you will need to merge the `tidy_format` and `df_sent` tables and group the final answer.\n"
   ]
  },
  {
   "cell_type": "code",
   "execution_count": null,
   "metadata": {
    "id": "Aem_gXlMapP-"
   },
   "outputs": [],
   "source": [
    "#df_trump['polarity'] = ...\n",
    "### BEGIN ANSWER\n",
    "polarity_tidy_format = tidy_format.merge(df_sent, left_on = \"word\", right_index = True)\n",
    "df_trump['polarity'] = polarity_tidy_format['polarity'].groupby('id').sum()\n",
    "df_trump['polarity'] = df_trump['polarity'].replace(np.nan, 0)\n",
    "### END ANSWER\n",
    "df_trump"
   ]
  },
  {
   "cell_type": "code",
   "execution_count": null,
   "metadata": {
    "id": "mhgNONHiapP-"
   },
   "outputs": [],
   "source": [
    "assert np.allclose(df_trump.loc['744701872456536064', 'polarity'], 8.4)\n",
    "assert np.allclose(df_trump.loc['745304731346702336', 'polarity'], 2.5)\n",
    "assert np.allclose(df_trump.loc['744519497764184064', 'polarity'], 1.7)\n",
    "assert np.allclose(df_trump.loc['894661651760377856', 'polarity'], 0.2)\n",
    "assert np.allclose(df_trump.loc['894620077634592769', 'polarity'], 5.4)\n",
    "# If you fail this test, you dropped tweets with 0 polarity\n",
    "assert np.allclose(df_trump.loc['744355251365511169', 'polarity'], 0.0)"
   ]
  },
  {
   "cell_type": "markdown",
   "metadata": {
    "id": "7iNmWEDNapP-"
   },
   "source": [
    "### Task 4.6\n",
    "Now we have a measure of the sentiment of each of his tweets! You can read over the VADER readme to understand a more robust sentiment analysis.\n",
    "Now, write the code to see the most positive and most negative tweets from Trump in your dataset:\n",
    "Find the most negative and most positive tweets made by Trump"
   ]
  },
  {
   "cell_type": "code",
   "execution_count": null,
   "metadata": {
    "id": "MFanLgGlapP-"
   },
   "outputs": [],
   "source": [
    "print('Most negative tweets:')\n",
    "### BEGIN ANSWER\n",
    "for t in df_trump.sort_values('polarity').head()['text']:\n",
    "    idx = df_trump[df_trump['text']==t].index.values\n",
    "    polarity = float(df_trump.loc[idx]['polarity'])\n",
    "    print('\\n', idx, \"Total sentiment value: \", polarity, '\\n', 'Tweet:', t)\n",
    "### END ANSWER"
   ]
  },
  {
   "cell_type": "code",
   "execution_count": null,
   "metadata": {
    "id": "b66zMSi6apP_"
   },
   "outputs": [],
   "source": [
    "print('Most positive tweets:')\n",
    "\n",
    "### BEGIN ANSWER\n",
    "for t in df_trump.sort_values('polarity', ascending = False).head()['text']:\n",
    "    idx = df_trump[df_trump['text']==t].index.values\n",
    "    polarity = float(df_trump.loc[idx]['polarity'])\n",
    "    print('\\n', idx, \"Total sentiment value: \", polarity, '\\n', 'Tweet:', t)\n",
    "### END ANSWER"
   ]
  },
  {
   "cell_type": "markdown",
   "metadata": {
    "id": "rBTcV47lapP_"
   },
   "source": [
    "### Task 4.7\n",
    "Plot the distribution of tweet sentiments broken down by whether the text of the tweet contains `nyt` or `fox`.  Then in the box below comment on what we observe?\n",
    "\n",
    "![title](images/nyt_vs_fox.png)"
   ]
  },
  {
   "cell_type": "code",
   "execution_count": null,
   "metadata": {
    "id": "0ktQdImsapP_"
   },
   "outputs": [],
   "source": [
    "### BEGIN ANSWER\n",
    "plt.figure(figsize=(10, 8))\n",
    "nyt_df = df_trump[df_trump['no_punc'].str.contains('nyt')]['polarity']\n",
    "fox_df = df_trump[df_trump['no_punc'].str.contains('fox')]['polarity']\n",
    "\n",
    "ax = sns.distplot(nyt_df, label = 'NYT')\n",
    "sns.distplot(fox_df, label = 'FOX')\n",
    "plt.legend()\n",
    "plt.show();\n",
    "### END ANSWER"
   ]
  },
  {
   "cell_type": "markdown",
   "metadata": {
    "id": "-Z4exTkuapP_"
   },
   "source": [
    "##### Comment on what you observe:\n",
    "\n",
    "#### BEGIN ANSWER\n",
    "From the graph, it can be observed that most of the tweets mentioning NYT have negative polarity whereas the ones mentioning FOX are more neutral and positive sentiment. This strongly implies Trump's own bias towards the respective news agencies. \n",
    "#### END ANSWER"
   ]
  },
  {
   "cell_type": "markdown",
   "metadata": {
    "id": "RnpgkUcpapP_"
   },
   "source": [
    "## PART 5 - Principal Component Analysis (PCA) and Twitter  (group and individual)\n",
    "A look at the top words used and the sentiments expressed in Trump tweets indicates that, some words are used with others almost all the time. A notable example is the slogan like Make America Great Again. As such, it may be beneficial to look at groups of words rather than individual words. For that, we will look at an approach applying a Principal Component Analysis. \n",
    "\n",
    "### The PCA\n",
    "The Principal Component Analysis, or PCA, is a tool generally used to identify patterns and to reduce the number of variables you have to consider in your analysis. For example, if you have data with 200 columns, it may be that a significant amount of the variance in your data can be explained by just 100 principal components. In the PCA, the first component is chosen in such a way that has the largest variance, subsequent components are orthogonal and continue covering as much variance as possible. In this way, the PCA samples as much of the variability in the data set with the first few components. Mathematically, each component is a linear combination of all the input parameters times coefficients specific for that component. These coefficients, or loading factors, are constrained such that the sum of the squares of them are equal to 1. As such, the loading factors serve as weights describing how strongly certain parameters contribute to the specific principal component. Parameters with large values of positive or negative loading factors are correlated with each other, which can serve to identify trends in your data."
   ]
  },
  {
   "cell_type": "markdown",
   "metadata": {
    "id": "o9zY4IQFapP_"
   },
   "source": [
    "### Task 5.1 Cleaning up the Data\n",
    "Using NLTK (Natural Language Toolkit) package for language processing and other python libraries, parse the json file to deal with inflected words, such as plurals, and removed stop words like common English words (the, and, it, etc) and certain political terms (the candidates names, for example). You can start with the top 50 words, but full analysis may require large number of words.\n",
    "Create a document-frequecy (df) matrix with 5000 rows and 50 columns where each column is a particular word (feature) and each row is a tweet (observation). The values of the matrix is how often the word appears. Apply the techniques we learned to reduce the weight of most common words (if necessary). Since this is a sparse matrix, you can use the sparse martix libraries to make things a bit more efficient (we can also use a regular numpy arrays to store these things since the dimensions are not too large). Lecture 6.1 captures some sparse matrix routines you can use.\n",
    "Print the first 10 rows of the df to show the matrix you created\n",
    "\n",
    "Start with the `tidy_format` dataframe"
   ]
  },
  {
   "cell_type": "code",
   "execution_count": null,
   "metadata": {},
   "outputs": [],
   "source": [
    "pip install nltk"
   ]
  },
  {
   "cell_type": "code",
   "execution_count": null,
   "metadata": {
    "id": "oiWydwJJapP_"
   },
   "outputs": [],
   "source": [
    "### BEGIN ANSWER\n",
    "## code to plot the first 10 rows of the matrix\n",
    "import nltk\n",
    "import nltk.corpus\n",
    "nltk.download('stopwords')\n",
    "nltk.download('wordnet')\n",
    "\n",
    "#create a dataframe called tmp to store all words appear in the tweets\n",
    "tmp = tidy_format.drop('num',axis=1)\n",
    "\n",
    "\n",
    "#remove stopwords\n",
    "stopwords = nltk.corpus.stopwords.words(\"english\")\n",
    "stopwords.extend(['rt','t','co','https','realdonaldtrump','amp',\"u\",'hillary','trump2016','trump','clinton','http','ha','wa'])\n",
    "tmp = tmp[~tmp['word'].isin(stopwords)]\n",
    "\n",
    "#deal with plurals\n",
    "from nltk.stem.wordnet import WordNetLemmatizer\n",
    "Lem = WordNetLemmatizer()\n",
    "def lem(x):\n",
    "    return Lem.lemmatize(x)\n",
    "tmp['word'] = tmp.word.apply(lem)\n",
    "\n",
    "# Remove numbers\n",
    "tmp = tmp[~(tmp['word'].str.isnumeric())]\n",
    "\n",
    "#Remove words with only 1 or 2 length\n",
    "tmp = tmp[(tmp['word'].str.len() > 2)]\n",
    "\n",
    "#get top50 words\n",
    "tmp = tmp.reset_index()\n",
    "top50 = tmp['word'].value_counts(ascending=False).nlargest(50).to_frame()\n",
    "\n",
    "tmp2 = tmp[tmp['word'].isin(top50.reset_index()['index'])]\n",
    "\n",
    "idlist = tmp2['id'].unique()\n",
    "idlist.sort()\n",
    "idlist = idlist[:5000]\n",
    "\n",
    "#create the tf-matrix\n",
    "matrix = np.zeros((5000,50))\n",
    "top50 = top50.reset_index()\n",
    "for a in range(5000):\n",
    "    for b in range(50):\n",
    "        if (top50['index'][b]) in df_trump['no_punc'].loc[idlist[a]]:\n",
    "            matrix[a][b] += 1\n",
    "\n",
    "# print(matrix[:10])\n",
    "top50\n",
    "\n",
    "### END ANSWER"
   ]
  },
  {
   "cell_type": "markdown",
   "metadata": {
    "id": "ArZki_hcapP_"
   },
   "source": [
    "### Task 5.2 Find the PCA's\n",
    "Write the code to find the first 50 PCA's for the document-frequency matrix. Pass the document-term-matrix to scikit-learn’s (https://scikit-learn.org/stable/modules/decomposition.html#decompositions) PCA method to obtain the components and loading factors."
   ]
  },
  {
   "cell_type": "code",
   "execution_count": null,
   "metadata": {
    "id": "CRABWO6xapP_"
   },
   "outputs": [],
   "source": [
    "### BEGIN ANSWER\n",
    "from sklearn.decomposition import PCA\n",
    "\n",
    "pca = PCA(n_components=50)\n",
    "pca.fit(matrix)\n",
    "\n",
    "print(pca.components_)\n",
    "print(' ')\n",
    "print(pca.explained_variance_)\n",
    "\n",
    "component50 = pca.components_\n",
    "### END ANSWER"
   ]
  },
  {
   "cell_type": "markdown",
   "metadata": {
    "id": "UCjL4BbYapQA"
   },
   "source": [
    "### Task 5.3 Examine the PCA\n",
    "We can examine the PCA results to look at the heatmap. Make a grid plot which shows the various principal component along the x-axis and the individual words along the y-axes. Each grid box should be color-coded based on the sign of the loading factor and how large the square of that value is. Looking at it vertically, you can see which words constitute your principal components. Looking at it horizontally, you can see how individual terms are shared between components. \n",
    "\n",
    "![title](images/pca.png)\n",
    "\n"
   ]
  },
  {
   "cell_type": "code",
   "execution_count": null,
   "metadata": {
    "id": "FeF4AKiPapQA"
   },
   "outputs": [],
   "source": [
    "### BEGIN ANSWER\n",
    "plt.figure(figsize=(15, 15))\n",
    "pcalabel = []\n",
    "for i in range(1, 51):\n",
    "    pcalabel.append('PC'+str(i))\n",
    "cmap = sns.diverging_palette(100, 400,as_cmap=True)\n",
    "hmap = sns.heatmap(component50, cmap = cmap, xticklabels = pcalabel, yticklabels = top50['index'])\n",
    "hmap.set(xlabel = 'PC', ylabel = 'words')\n",
    "plt.show();\n",
    "### END ANSWER"
   ]
  },
  {
   "cell_type": "markdown",
   "metadata": {
    "id": "BASs-3ERapQA"
   },
   "source": [
    "### Task 5.4 PCA Compare\n",
    "We can determine how many words and how many components are needed to do a good visualization. Plot PC1 and PC2 in a 2D plot. The results should be similar to following scatter plot \n",
    "\n",
    "![title](images/PC1_PC2.png)\n",
    "\n",
    "This is a scatter plot of the values of the components, but with arrows indicating some of the prominent terms as indicated by their loading factors. The values of the loading factors are used to determine the length and direction of these arrows and as such they serve as a way of expressing direction. That is, tweets which use these terms will be moved along the length of those arrows. Shown are the most important parameters."
   ]
  },
  {
   "cell_type": "code",
   "execution_count": null,
   "metadata": {
    "id": "Kw7mi75wapQA"
   },
   "outputs": [],
   "source": [
    "### BEGIN ANSWER\n",
    "pca1 = component50[0]\n",
    "pca2 = component50[1]\n",
    "jp = sns.jointplot(pca1, pca2)\n",
    "jp.set_axis_labels('PC1', 'PC2', fontsize=16)\n",
    "plt.show();\n",
    "### END ANSWER"
   ]
  },
  {
   "cell_type": "markdown",
   "metadata": {
    "id": "n2-oIKbeapQA"
   },
   "source": [
    "## PART 6 - Twitter Engagement\n",
    "\n",
    "In this problem, we'll explore which words led to a greater average number of retweets. For example, at the time of this writing, Donald Trump has two tweets that contain the word 'oakland' (tweets 932570628451954688 and 1016609920031117312) with 36757 and 10286 retweets respectively, for an average of 23,521.5.\n",
    "\n",
    "\n",
    "Your `top_20` table should have this format:\n",
    "\n",
    "<table border=\"1\" class=\"dataframe\">\n",
    "  <thead>\n",
    "    <tr style=\"text-align: right;\">\n",
    "      <th></th>\n",
    "      <th>retweet_count</th>\n",
    "    </tr>\n",
    "    <tr>\n",
    "      <th>word</th>\n",
    "      <th></th>\n",
    "    </tr>\n",
    "  </thead>\n",
    "  <tbody>\n",
    "    <tr>\n",
    "      <th>jong</th>\n",
    "      <td>40675.666667</td>\n",
    "    </tr>\n",
    "    <tr>\n",
    "      <th>try</th>\n",
    "      <td>33937.800000</td>\n",
    "    </tr>\n",
    "    <tr>\n",
    "      <th>kim</th>\n",
    "      <td>32849.595745</td>\n",
    "    </tr>\n",
    "    <tr>\n",
    "      <th>un</th>\n",
    "      <td>32741.731707</td>\n",
    "    </tr>\n",
    "    <tr>\n",
    "      <th>maybe</th>\n",
    "      <td>30473.192308</td>\n",
    "    </tr>\n",
    "  </tbody>\n",
    "</table>"
   ]
  },
  {
   "cell_type": "markdown",
   "metadata": {
    "id": "3MzFQJDUapQA"
   },
   "source": [
    "### Task 6.1\n",
    "Find the top 20 most retweeted words. Include only words that appear in at least 25 tweets. As usual, try to do this without any for loops. You can string together ~5-7 pandas commands and get everything done on one line."
   ]
  },
  {
   "cell_type": "code",
   "execution_count": null,
   "metadata": {
    "id": "LIiOKJjuapQA"
   },
   "outputs": [],
   "source": [
    "#top_20 = ...\n",
    "### BEGIN ANSWER\n",
    "words = tidy_format.drop('num', axis=1).value_counts()\n",
    "words_25plus = pd.DataFrame(words[words >= 25])\n",
    "\n",
    "retweets = pd.DataFrame(df_trump.set_index('retweet_count')['no_punc'].str.split(expand=True)).stack().reset_index(1).drop('level_1', axis=1).reset_index()\n",
    "retweets = retweets.rename(columns={0:'word'})\n",
    "df_merged = words_25plus.merge(retweets, left_index=True, right_on='word')\n",
    "top_20 = df_merged.groupby('word').agg('mean').sort_values('retweet_count', ascending=False).drop(0, axis=1).head(20)\n",
    "top_20\n",
    "### END ANSWER"
   ]
  },
  {
   "cell_type": "markdown",
   "metadata": {
    "id": "5lSh8NdyapQA"
   },
   "source": [
    "### Task 6.2\n",
    "Plot a bar chart of your results:"
   ]
  },
  {
   "cell_type": "code",
   "execution_count": null,
   "metadata": {
    "id": "CPahzHsVapQA"
   },
   "outputs": [],
   "source": [
    "### BEGIN ANSWER\n",
    "plt.figure(figsize=(15, 10))\n",
    "sns.barplot(top_20['retweet_count'].sort_values(ascending=False), top_20.index);\n",
    "### END ANSWER"
   ]
  },
  {
   "cell_type": "markdown",
   "metadata": {
    "id": "3CzsT89dapQA",
    "tags": []
   },
   "source": [
    "## PART 7 - Kim Jong Un and Musk Tweet Analysis (Optional for Individual)\n",
    "What else can we do? Let us ask some open ended questions."
   ]
  },
  {
   "cell_type": "markdown",
   "metadata": {
    "id": "00lj_c39apQA"
   },
   "source": [
    "### Task 7.1\n",
    "\"kim\", \"jong\" and \"un\" are apparently really popular in Trump's tweets! It seems like we can conclude that his tweets involving jong are more popular than his other tweets. Or can we?\n",
    "\n",
    "Consider each of the statements about possible confounding factors below. State whether each statement is true or false and explain. If the statement is true, state whether the confounding factor could have made kim jong un related tweets higher in the list than they should be.\n",
    "\n",
    "1. We didn't restrict our word list to nouns, so we have unhelpful words like \"let\" and \"any\" in our result.\n",
    "      - That might be why 'un' is the most popular.\n",
    "1. We didn't remove hashtags in our text, so we have duplicate words (eg. #great and great).\n",
    "      - Some may only have '#great' not 'great' which make the average lower\n",
    "1. We didn't account for the fact that Trump's follower count has increased over time.\n",
    "      - This can affect a lot. As Trump's follower count has increased, the more popular every word be"
   ]
  },
  {
   "cell_type": "code",
   "execution_count": null,
   "metadata": {
    "id": "dShu7ypuapQB"
   },
   "outputs": [],
   "source": [
    "#plt.figure(figsize=(20,20))\n",
    "\n",
    "### BEGIN ANSWER\n",
    "'''\n",
    "1. True. This statement can be true because to construct a coherent tweet, we need non-noun words and those are usually more in number than nouns.\n",
    "However, despite not restricting our word list to just nouns, \"jong\" and \"kim\" are still ranked very high in out data table -- this only\n",
    "goes to show that kim jong un related tweets are higher in number than any other in the list.\n",
    "\n",
    "2. True. The way we analyzed the dataset, 'great' and '#great' are considered distinct words. So this may skewer the average use case\n",
    "quantity of the word 'great'.\n",
    "\n",
    "3. False. \n",
    "'''\n",
    "### END ANSWER"
   ]
  },
  {
   "cell_type": "markdown",
   "metadata": {
    "id": "b6SBTwpsapQB"
   },
   "source": [
    "### Task 7.2\n",
    "Using the `df_trump` tweets construct an interesting plot describing a property of the data and discuss what you found below.\n",
    "\n",
    "**Ideas:**\n",
    "\n",
    "1. How has the sentiment changed with length of the tweets?\n",
    "1. Does sentiment affect retweet count?\n",
    "1. Are retweets more negative than regular tweets?\n",
    "1. Are there any spikes in the number of retweets and do the correspond to world events? \n",
    "1. What terms have an especially positive or negative sentiment?\n",
    "\n",
    "You can look at other data sources and even tweets. Do some plots and discuss. You can add more cells here as needed.\n"
   ]
  },
  {
   "cell_type": "code",
   "execution_count": null,
   "metadata": {
    "id": "qqshSSqVapQB"
   },
   "outputs": [],
   "source": [
    "### BEGIN ANSWER\n",
    "df_trump['tweet_length'] = [len(tweet) for tweet in df_trump['no_punc']]\n",
    "# df_trump['tweet_length']\n",
    "\n",
    "# concat tweet length and polarity in new df\n",
    "new_df = df_trump[['polarity', 'tweet_length']]\n",
    "# new_df\n",
    "mean_length = new_df.groupby('tweet_length').mean()\n",
    "mean_length['mean_length'] = mean_length.index.values\n",
    "mean_length = mean_length.reset_index()\n",
    "mean_length = mean_length.drop(['tweet_length'], axis = 1)\n",
    "\n",
    "plt.figure()\n",
    "mean_length.plot(x = 'mean_length', y = 'polarity', kind = \"scatter\", use_index=True)\n",
    "plt.ylabel('Polarity')\n",
    "plt.xlabel('Length of Tweet')\n",
    "plt.title('How sentiment changes with length of the tweets')\n",
    "\n",
    "plt.show(); \n",
    "### END ANSWER"
   ]
  },
  {
   "cell_type": "markdown",
   "metadata": {
    "id": "Cs8GlQj2apQB"
   },
   "source": [
    "#### BEGIN ANSWER\n",
    "Discussion: How has the sentiment changed with length of the tweets?\n",
    "\n",
    "Answer: The scatter plot presented above shows that as mean length of tweets increases, polarity of sentiment also goes up. However, most of the tweets are shorter in length, as observed from the dense aggregation of plots around the 0 to 150 length. Shorter tweets also seem to not evoke a lot of sentiment as the polarity hovers around 0. \n",
    "#### END ANSWER"
   ]
  },
  {
   "cell_type": "markdown",
   "metadata": {
    "id": "mdfBoczTapQB"
   },
   "source": [
    "### Task 7.3 - Elon Musk and Twitter\n",
    "Elon Musk purchased Twitter in October 2022. In November, 2022, he laid off over 50% of the employees. In this task, extract the tweets from 2022 (where the conversation about twitter purchase began."
   ]
  },
  {
   "cell_type": "code",
   "execution_count": null,
   "metadata": {},
   "outputs": [],
   "source": [
    "### BEGIN ANSWER\n",
    "   \n",
    "# your solution here\n",
    "\n",
    "### END ANSWER"
   ]
  },
  {
   "cell_type": "markdown",
   "metadata": {},
   "source": [
    "### Task 7.4 - Elon Musk and PCA\n",
    "Using a heatmap similar to Task 5.3, find the most dominant principal components of his tweets. "
   ]
  },
  {
   "cell_type": "code",
   "execution_count": null,
   "metadata": {},
   "outputs": [],
   "source": [
    "### BEGIN ANSWER\n",
    "   \n",
    "# your solution here\n",
    "\n",
    "### END ANSWER"
   ]
  },
  {
   "cell_type": "markdown",
   "metadata": {},
   "source": [
    "### Task 7.5 - Elon Musk Twitter Analysis\n",
    "Do a thorough analysis of how Elon Musk tweets emphasized why he want to buy twitter. This is an open ended question and be as detailed as possible."
   ]
  },
  {
   "cell_type": "markdown",
   "metadata": {},
   "source": [
    "### BEGIN ANSWER\n",
    "   \n",
    "# your analysis here\n",
    "\n",
    "### END ANSWER"
   ]
  },
  {
   "cell_type": "markdown",
   "metadata": {
    "id": "WHDvFI8bapQB"
   },
   "source": [
    "<div class=\"alert alert-block alert-info\">\n",
    "<h2>Submission Instructions</h2> \n",
    "<b> File Name:</b> Please name the file as yourSection_yourNetID_midsemester.ipynb<br>\n",
    "<b> Group Projects:</b> Each person in the group must submit a copy with both names listed and your partners contribution answered. If you are doing a group project, you must inform your TA prior to 11/10/22 that you intend to work as a group and submit your name and your partner name via the form. We will <b>not accept group work</b> if your TA has not been notified.<br>\n",
    "<b> Submit To: </b> Codebench (remove all output. Do not submit data files<br>\n",
    "<b>Warning:</b> Failure to follow directions may result in loss points.<br>\n",
    "</div>"
   ]
  },
  {
   "cell_type": "markdown",
   "metadata": {
    "id": "gjF3QW2tapQB"
   },
   "source": [
    "Created by Andy Guna @2019-2022 Credits: Josh Hug, and Berkeley Data Science Group, Steve Skiena, David Rodreguez"
   ]
  },
  {
   "cell_type": "markdown",
   "metadata": {},
   "source": [
    "@ Copyrighted Material. DO NOT post online."
   ]
  }
 ],
 "metadata": {
  "colab": {
   "name": "MidSemester Project - F21.ipynb",
   "provenance": []
  },
  "kernelspec": {
   "display_name": "Python 3",
   "language": "python",
   "name": "python3"
  },
  "language_info": {
   "codemirror_mode": {
    "name": "ipython",
    "version": 3
   },
   "file_extension": ".py",
   "mimetype": "text/x-python",
   "name": "python",
   "nbconvert_exporter": "python",
   "pygments_lexer": "ipython3",
   "version": "3.9.5"
  }
 },
 "nbformat": 4,
 "nbformat_minor": 4
}
